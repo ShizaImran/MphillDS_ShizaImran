{
 "cells": [
  {
   "cell_type": "markdown",
   "metadata": {},
   "source": [
    "# Shiza Imran\n",
    "\n",
    "+92 3091393002 \\|  shizaimran002@gmail.com \\| Lahore, Pakistan \\| [LinkedIn Profile](www.linkedin.com/in/shiza-imran-386709222)\n",
    "\n",
    "------------------------------------------------------------------------\n"
   ]
  },
  {
   "cell_type": "markdown",
   "metadata": {},
   "source": [
    "## WordPress  DEVELOPER\n",
    "\n",
    "As a WordPress specialist, I take pride in my ability to transform ideas into visually appealing and functional websites that align with the unique needs and goals of clients. Through my dedication and commitment to excellence, I consistently deliver high-quality results that exceed expectations. I thrive in collaborative environments, working closely with clients and cross-functional teams to ensure seamless project execution from inception to completion.\n",
    "\n",
    "With a strong focus on continuous learning, I stay abreast of the latest trends and technologies in the IT and WordPress domains. My adaptability and problem-solving mindset allow me to navigate challenges effectively and devise innovative solutions.\n",
    "\n",
    "------------------------------------------------------------------------\n"
   ]
  },
  {
   "cell_type": "markdown",
   "metadata": {},
   "source": [
    "## EDUCATION\n",
    "\n",
    "### MS Data Science \\| PUCIT, Lahore\n",
    "\n",
    "-   2023 - Continue\n",
    "------------------------------------------------------------------------\n",
    "\n",
    "\n",
    "### BS Information Technology \\| Khwaja Fareed University of Engineering and Information Technology,RYK\n",
    "#### Silver Medalist\n",
    "\n",
    "-   Oct 2019 - July 2023 \n",
    "\n",
    "------------------------------------------------------------------------\n",
    "\n",
    "### FSC Pre-Engineering \\| MTB, Sadiqabad\n",
    "\n",
    "-   2017 - 2019\n",
    "\n",
    "------------------------------------------------------------------------\n"
   ]
  },
  {
   "cell_type": "markdown",
   "metadata": {},
   "source": [
    "## WORK EXPERIENCE\n",
    "\n",
    "### WordPress  Developer \\| VirtualSoft, SDK\n",
    "\n",
    "#### June 2022 - September 2023\\\n",
    "\n",
    "#### Virtual Soft · InternshipVirtual Soft · Internship\n",
    "\n",
    "-As a WordPress intern, I actively contributed to the creation and maintenance of various websites, harnessing the power of this versatile platform to deliver seamless user experiences. Collaborating closely with a team of skilled professionals, I was involved in designing and customizing visually captivating websites that met clients' specific requirements.\n",
    "\n",
    "Throughout the internship, I immersed myself in learning the intricacies of WordPress. I consistently strived for excellence, ensuring that the websites I worked on were not only aesthetically appealing but also functionally efficient.\n",
    "\n",
    "Beyond technical skills, my time at Virtual Soft fostered personal growth and professional development. I honed my communication and teamwork abilities, engaging effectively with colleagues and clients to comprehend project objectives and deliver results that surpassed expectations.\n",
    "\n",
    "------------------------------------------------------------------------\n",
    "\n"
   ]
  },
  {
   "cell_type": "markdown",
   "metadata": {},
   "source": [
    "## Achievements & Certification\n",
    "\n",
    "-   Technical Support Fundamentals certification by CourseEra\n",
    "-   Data Science course by Coursera\n",
    "-   Female Sports Coordinator ITEC (2023)\n",
    "-   Event Management Certification (2023)\n",
    "-   IT PDS Event Organization (2023)\n",
    "-   Pride of Perfomance Certifaction by ITEC (2022)\n",
    "-   Wordpress Development certification(2022)\n",
    "-   Vice President IET On Campus KFUEIT (2022)\n",
    "-   Decoration Head ITEC (2022)\n",
    "-   Former Discipline Head IET On Campus KFUEIT (2021)\n",
    "\n",
    "------------------------------------------------------------------------\n"
   ]
  },
  {
   "cell_type": "markdown",
   "metadata": {},
   "source": [
    "## Languages\n",
    "\n",
    "-   English - Proficient\n",
    "-   Urdu - Native\n",
    "\n",
    "--------------------------------------------------"
   ]
  },
  {
   "cell_type": "code",
   "execution_count": null,
   "metadata": {},
   "outputs": [],
   "source": []
  }
 ],
 "metadata": {
  "kernelspec": {
   "display_name": "Python 3",
   "language": "python",
   "name": "python3"
  },
  "language_info": {
   "codemirror_mode": {
    "name": "ipython",
    "version": 3
   },
   "file_extension": ".py",
   "mimetype": "text/x-python",
   "name": "python",
   "nbconvert_exporter": "python",
   "pygments_lexer": "ipython3",
   "version": "3.7.3"
  }
 },
 "nbformat": 4,
 "nbformat_minor": 2
}
